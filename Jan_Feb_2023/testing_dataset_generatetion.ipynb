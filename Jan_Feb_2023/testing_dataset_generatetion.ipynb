{
 "cells": [
  {
   "attachments": {},
   "cell_type": "markdown",
   "metadata": {},
   "source": [
    "Generate a dataset by droping the row with address matched with the kaggle scam dataset"
   ]
  },
  {
   "cell_type": "code",
   "execution_count": 3,
   "metadata": {},
   "outputs": [],
   "source": [
    "import pandas as pd"
   ]
  },
  {
   "cell_type": "code",
   "execution_count": 4,
   "metadata": {},
   "outputs": [
    {
     "name": "stdout",
     "output_type": "stream",
     "text": [
      "(9841, 51)\n",
      "(18069, 45)\n"
     ]
    },
    {
     "name": "stderr",
     "output_type": "stream",
     "text": [
      "C:\\Users\\Debasish\\AppData\\Local\\Temp/ipykernel_5492/2487064765.py:3: DtypeWarning: Columns (25,26,27,38) have mixed types. Specify dtype option on import or set low_memory=False.\n",
      "  df2=pd.read_csv('ourdataset.csv')\n"
     ]
    }
   ],
   "source": [
    "# load kaggle dataset and our dataset \n",
    "df1=pd.read_csv(\"transaction_dataset - transaction_dataset.csv\")\n",
    "df2=pd.read_csv('ourdataset.csv')\n",
    "print(df1.shape)\n",
    "print(df2.shape)"
   ]
  },
  {
   "cell_type": "code",
   "execution_count": 5,
   "metadata": {},
   "outputs": [],
   "source": [
    "# Ommit first two columns (Index, Adress)\n",
    "df1 = df1.iloc[:,2:]\n",
    "df2 = df2.iloc[:,1:]"
   ]
  },
  {
   "cell_type": "code",
   "execution_count": 6,
   "metadata": {},
   "outputs": [
    {
     "name": "stdout",
     "output_type": "stream",
     "text": [
      "<class 'pandas.core.frame.DataFrame'>\n",
      "RangeIndex: 9841 entries, 0 to 9840\n",
      "Data columns (total 49 columns):\n",
      " #   Column                                                Non-Null Count  Dtype  \n",
      "---  ------                                                --------------  -----  \n",
      " 0   Address                                               9841 non-null   object \n",
      " 1   FLAG                                                  9841 non-null   int64  \n",
      " 2   Avg min between sent tnx                              9841 non-null   float64\n",
      " 3   Avg min between received tnx                          9841 non-null   float64\n",
      " 4   Time Diff between first and last (Mins)               9841 non-null   float64\n",
      " 5   Sent tnx                                              9841 non-null   int64  \n",
      " 6   Received Tnx                                          9841 non-null   int64  \n",
      " 7   Number of Created Contracts                           9841 non-null   int64  \n",
      " 8   Unique Received From Addresses                        9841 non-null   int64  \n",
      " 9   Unique Sent To Addresses                              9841 non-null   int64  \n",
      " 10  min value received                                    9841 non-null   float64\n",
      " 11  max value received                                    9841 non-null   float64\n",
      " 12  avg val received                                      9841 non-null   float64\n",
      " 13  min val sent                                          9841 non-null   float64\n",
      " 14  max val sent                                          9841 non-null   float64\n",
      " 15  avg val sent                                          9841 non-null   float64\n",
      " 16  min value sent to contract                            9841 non-null   float64\n",
      " 17  max val sent to contract                              9841 non-null   float64\n",
      " 18  avg value sent to contract                            9841 non-null   float64\n",
      " 19  total transactions (including tnx to create contract  9841 non-null   int64  \n",
      " 20  total Ether sent                                      9841 non-null   float64\n",
      " 21  total ether received                                  9841 non-null   float64\n",
      " 22  total ether sent contracts                            9841 non-null   float64\n",
      " 23  total ether balance                                   9841 non-null   float64\n",
      " 24  Total ERC20 tnxs                                      9012 non-null   float64\n",
      " 25  ERC20 total Ether received                            9012 non-null   float64\n",
      " 26  ERC20 total ether sent                                9012 non-null   float64\n",
      " 27  ERC20 total Ether sent contract                       9012 non-null   float64\n",
      " 28  ERC20 uniq sent addr                                  9012 non-null   float64\n",
      " 29  ERC20 uniq rec addr                                   9012 non-null   float64\n",
      " 30  ERC20 uniq sent addr.1                                9012 non-null   float64\n",
      " 31  ERC20 uniq rec contract addr                          9012 non-null   float64\n",
      " 32  ERC20 avg time between sent tnx                       9012 non-null   float64\n",
      " 33  ERC20 avg time between rec tnx                        9012 non-null   float64\n",
      " 34  ERC20 avg time between rec 2 tnx                      9012 non-null   float64\n",
      " 35  ERC20 avg time between contract tnx                   9012 non-null   float64\n",
      " 36  ERC20 min val rec                                     9012 non-null   float64\n",
      " 37  ERC20 max val rec                                     9012 non-null   float64\n",
      " 38  ERC20 avg val rec                                     9012 non-null   float64\n",
      " 39  ERC20 min val sent                                    9012 non-null   float64\n",
      " 40  ERC20 max val sent                                    9012 non-null   float64\n",
      " 41  ERC20 avg val sent                                    9012 non-null   float64\n",
      " 42  ERC20 min val sent contract                           9012 non-null   float64\n",
      " 43  ERC20 max val sent contract                           9012 non-null   float64\n",
      " 44  ERC20 avg val sent contract                           9012 non-null   float64\n",
      " 45  ERC20 uniq sent token name                            9012 non-null   float64\n",
      " 46  ERC20 uniq rec token name                             9012 non-null   float64\n",
      " 47  ERC20 most sent token type                            7809 non-null   object \n",
      " 48  ERC20_most_rec_token_type                             8969 non-null   object \n",
      "dtypes: float64(39), int64(7), object(3)\n",
      "memory usage: 3.7+ MB\n"
     ]
    }
   ],
   "source": [
    "df1.info()"
   ]
  },
  {
   "cell_type": "code",
   "execution_count": 7,
   "metadata": {},
   "outputs": [
    {
     "name": "stdout",
     "output_type": "stream",
     "text": [
      "<class 'pandas.core.frame.DataFrame'>\n",
      "RangeIndex: 18069 entries, 0 to 18068\n",
      "Data columns (total 44 columns):\n",
      " #   Column                                            Non-Null Count  Dtype  \n",
      "---  ------                                            --------------  -----  \n",
      " 0   address                                           18069 non-null  object \n",
      " 1   Avg min between sent tnx                          18069 non-null  float64\n",
      " 2   Avg min between received tnx                      18069 non-null  float64\n",
      " 3   Time Diff between first and_last (Mins)           18069 non-null  int64  \n",
      " 4   Sent_tnx                                          18069 non-null  int64  \n",
      " 5   Received_tnx                                      18069 non-null  int64  \n",
      " 6   NumberofCreated_Contracts                         18069 non-null  int64  \n",
      " 7   UniqueReceivedFrom_Addresses                      18069 non-null  int64  \n",
      " 8   UniqueSentTo_Addresses20                          18069 non-null  int64  \n",
      " 9   MinValueReceived                                  18069 non-null  float64\n",
      " 10  MaxValueReceived                                  18069 non-null  float64\n",
      " 11  AvgValueReceived5Average                          18069 non-null  float64\n",
      " 12  MinValSent                                        18069 non-null  float64\n",
      " 13  MaxValSent                                        18069 non-null  float64\n",
      " 14  AvgValSent                                        18069 non-null  float64\n",
      " 15  MinValueSentToContract                            18069 non-null  float64\n",
      " 16  MaxValueSentToContract                            18069 non-null  float64\n",
      " 17  AvgValueSentToContract                            18069 non-null  float64\n",
      " 18  TotalTransactions(IncludingTnxtoCreate_Contract)  18069 non-null  int64  \n",
      " 19  TotalEtherSent                                    18069 non-null  float64\n",
      " 20  TotalEtherReceived                                18069 non-null  float64\n",
      " 21  TotalEtherSent_Contracts                          18069 non-null  float64\n",
      " 22  TotalEtherBalance                                 18069 non-null  object \n",
      " 23  TotalERC20Tnxs:                                   18069 non-null  int64  \n",
      " 24  ERC20TotalEther_Received:                         18069 non-null  object \n",
      " 25  ERC20TotalEther_Sent:                             18069 non-null  object \n",
      " 26  ERC20TotalEtherSentContract:                      18069 non-null  object \n",
      " 27  ERC20UniqSent_Addr:                               18069 non-null  int64  \n",
      " 28  ERC20UniqRec_Addr:                                18069 non-null  int64  \n",
      " 29  ERC20UniqRecContractAddr:                         18069 non-null  int64  \n",
      " 30  ERC20AvgTimeBetweenSent_Tnx                       18069 non-null  float64\n",
      " 31  ERC20AvgTimeBetweenRec_Tnx                        18069 non-null  float64\n",
      " 32  ERC20AvgTimeBetweenContract_Tnx                   18069 non-null  float64\n",
      " 33  ERC20MinVal_Rec                                   18069 non-null  float64\n",
      " 34  ERC20MaxVal_Rec                                   18069 non-null  float64\n",
      " 35  ERC20AvgVal_Rec                                   18069 non-null  float64\n",
      " 36  ERC20MinVal_Sent                                  18069 non-null  float64\n",
      " 37  ERC20MaxVal_Sent                                  18069 non-null  object \n",
      " 38  ERC20AvgVal_Sent                                  18069 non-null  float64\n",
      " 39  ERC20UniqSentTokenName                            18069 non-null  int64  \n",
      " 40  ERC20UniqRecTokenName                             18069 non-null  int64  \n",
      " 41  ERC20MostSentTokenType                            18062 non-null  object \n",
      " 42  ERC20MostRecTokenType                             18052 non-null  object \n",
      " 43  FLAG                                              18069 non-null  int64  \n",
      "dtypes: float64(22), int64(14), object(8)\n",
      "memory usage: 6.1+ MB\n"
     ]
    }
   ],
   "source": [
    "df2.info()"
   ]
  },
  {
   "cell_type": "code",
   "execution_count": 8,
   "metadata": {},
   "outputs": [
    {
     "name": "stdout",
     "output_type": "stream",
     "text": [
      "9841\n",
      "<class 'str'>\n"
     ]
    }
   ],
   "source": [
    "# Convert the kaggle dataset's address into a list\n",
    "kaggle_dataset_addresses=df1['Address'].values.tolist()\n",
    "print(len(kaggle_dataset_addresses))\n",
    "print(type(kaggle_dataset_addresses[0]))"
   ]
  },
  {
   "cell_type": "code",
   "execution_count": 9,
   "metadata": {},
   "outputs": [
    {
     "name": "stdout",
     "output_type": "stream",
     "text": [
      "2188\n"
     ]
    }
   ],
   "source": [
    "count=0\n",
    "for i in range(len(df2)):\n",
    "    if( df2.loc[i].address in kaggle_dataset_addresses):\n",
    "        count+=1\n",
    "print(count)"
   ]
  },
  {
   "cell_type": "code",
   "execution_count": 10,
   "metadata": {},
   "outputs": [
    {
     "name": "stdout",
     "output_type": "stream",
     "text": [
      "(15881, 44)\n"
     ]
    }
   ],
   "source": [
    "# Drop the matched row \n",
    "for i in range(len(df2)):\n",
    "    if( df2.loc[i].address in kaggle_dataset_addresses):\n",
    "        df2.drop([i], inplace = True)\n",
    "print(df2.shape)\n",
    "# df2.to_csv('testing_dataset')"
   ]
  },
  {
   "cell_type": "code",
   "execution_count": 11,
   "metadata": {},
   "outputs": [],
   "source": [
    "# output the testing dataset\n",
    "df2.to_csv('testing_dataset.csv')"
   ]
  }
 ],
 "metadata": {
  "kernelspec": {
   "display_name": "Python 3",
   "language": "python",
   "name": "python3"
  },
  "language_info": {
   "codemirror_mode": {
    "name": "ipython",
    "version": 3
   },
   "file_extension": ".py",
   "mimetype": "text/x-python",
   "name": "python",
   "nbconvert_exporter": "python",
   "pygments_lexer": "ipython3",
   "version": "3.10.0 (tags/v3.10.0:b494f59, Oct  4 2021, 19:00:18) [MSC v.1929 64 bit (AMD64)]"
  },
  "orig_nbformat": 4,
  "vscode": {
   "interpreter": {
    "hash": "26de051ba29f2982a8de78e945f0abaf191376122a1563185a90213a26c5da77"
   }
  }
 },
 "nbformat": 4,
 "nbformat_minor": 2
}
