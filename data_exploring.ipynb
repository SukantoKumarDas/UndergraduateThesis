{
 "cells": [
  {
   "cell_type": "code",
   "execution_count": 78,
   "metadata": {},
   "outputs": [],
   "source": [
    "import pandas as pd"
   ]
  },
  {
   "cell_type": "code",
   "execution_count": 79,
   "metadata": {},
   "outputs": [
    {
     "name": "stdout",
     "output_type": "stream",
     "text": [
      "<class 'pandas.core.frame.DataFrame'>\n",
      "RangeIndex: 5839 entries, 0 to 5838\n",
      "Data columns (total 17 columns):\n",
      " #   Column              Non-Null Count  Dtype  \n",
      "---  ------              --------------  -----  \n",
      " 0   address             5839 non-null   object \n",
      " 1   name                5839 non-null   object \n",
      " 2   type                5839 non-null   object \n",
      " 3   url                 5839 non-null   object \n",
      " 4   hostname            5839 non-null   object \n",
      " 5   featured            5839 non-null   int64  \n",
      " 6   path                5832 non-null   object \n",
      " 7   category            5832 non-null   object \n",
      " 8   subcategory         5818 non-null   object \n",
      " 9   description         5691 non-null   object \n",
      " 10  reporter            5830 non-null   object \n",
      " 11  severity            5832 non-null   float64\n",
      " 12  updated             5832 non-null   float64\n",
      " 13  crypto_type         5377 non-null   object \n",
      " 14  no_of_transactions  5839 non-null   int64  \n",
      " 15  total_received      5343 non-null   float64\n",
      " 16  total_sent          5343 non-null   float64\n",
      "dtypes: float64(4), int64(2), object(11)\n",
      "memory usage: 775.6+ KB\n"
     ]
    }
   ],
   "source": [
    "df = pd.read_csv(\"address_final.csv\", header=0)\n",
    "df = df.drop(df.columns[[0, 1, 2]],axis = 1) ## drop unnecessary column by index\n",
    "df.info()\n"
   ]
  },
  {
   "cell_type": "code",
   "execution_count": 80,
   "metadata": {},
   "outputs": [
    {
     "data": {
      "text/html": [
       "<div>\n",
       "<style scoped>\n",
       "    .dataframe tbody tr th:only-of-type {\n",
       "        vertical-align: middle;\n",
       "    }\n",
       "\n",
       "    .dataframe tbody tr th {\n",
       "        vertical-align: top;\n",
       "    }\n",
       "\n",
       "    .dataframe thead th {\n",
       "        text-align: right;\n",
       "    }\n",
       "</style>\n",
       "<table border=\"1\" class=\"dataframe\">\n",
       "  <thead>\n",
       "    <tr style=\"text-align: right;\">\n",
       "      <th></th>\n",
       "      <th>address</th>\n",
       "      <th>name</th>\n",
       "      <th>type</th>\n",
       "      <th>url</th>\n",
       "      <th>hostname</th>\n",
       "      <th>featured</th>\n",
       "      <th>path</th>\n",
       "      <th>category</th>\n",
       "      <th>subcategory</th>\n",
       "      <th>description</th>\n",
       "      <th>reporter</th>\n",
       "      <th>severity</th>\n",
       "      <th>updated</th>\n",
       "      <th>crypto_type</th>\n",
       "      <th>no_of_transactions</th>\n",
       "      <th>total_received</th>\n",
       "      <th>total_sent</th>\n",
       "    </tr>\n",
       "  </thead>\n",
       "  <tbody>\n",
       "    <tr>\n",
       "      <th>0</th>\n",
       "      <td>0x0000000012ba45c32e4380a42ee524fe30502943</td>\n",
       "      <td>eth.ug</td>\n",
       "      <td>scam</td>\n",
       "      <td>http://eth.ug</td>\n",
       "      <td>eth.ug</td>\n",
       "      <td>0</td>\n",
       "      <td>/*</td>\n",
       "      <td>Scamming</td>\n",
       "      <td>Trust-Trading</td>\n",
       "      <td>Trust trading scam site</td>\n",
       "      <td>CryptoScamDB</td>\n",
       "      <td>1.0</td>\n",
       "      <td>1.667236e+12</td>\n",
       "      <td>ETH</td>\n",
       "      <td>14</td>\n",
       "      <td>164.967798</td>\n",
       "      <td>164.960982</td>\n",
       "    </tr>\n",
       "    <tr>\n",
       "      <th>1</th>\n",
       "      <td>0x00000000445b63fff54af1ea544ff62ae96e0b15</td>\n",
       "      <td>eth.ug</td>\n",
       "      <td>scam</td>\n",
       "      <td>http://eth.ug</td>\n",
       "      <td>eth.ug</td>\n",
       "      <td>0</td>\n",
       "      <td>/*</td>\n",
       "      <td>Scamming</td>\n",
       "      <td>Trust-Trading</td>\n",
       "      <td>Trust trading scam site</td>\n",
       "      <td>CryptoScamDB</td>\n",
       "      <td>1.0</td>\n",
       "      <td>1.667236e+12</td>\n",
       "      <td>ETH</td>\n",
       "      <td>14</td>\n",
       "      <td>110.999450</td>\n",
       "      <td>110.997560</td>\n",
       "    </tr>\n",
       "    <tr>\n",
       "      <th>2</th>\n",
       "      <td>0x0000000086c5d614bec59dfd2c9b88f7cb57f23c</td>\n",
       "      <td>ethereum.ug</td>\n",
       "      <td>scam</td>\n",
       "      <td>http://ethereum.ug</td>\n",
       "      <td>ethereum.ug</td>\n",
       "      <td>0</td>\n",
       "      <td>/*</td>\n",
       "      <td>Scamming</td>\n",
       "      <td>Trust-Trading</td>\n",
       "      <td>Trust trading scam site</td>\n",
       "      <td>CryptoScamDB</td>\n",
       "      <td>1.0</td>\n",
       "      <td>1.667236e+12</td>\n",
       "      <td>ETH</td>\n",
       "      <td>6</td>\n",
       "      <td>60.502914</td>\n",
       "      <td>60.502305</td>\n",
       "    </tr>\n",
       "    <tr>\n",
       "      <th>3</th>\n",
       "      <td>0x00000000D029A3Ed50d891B9afd74B034179082e</td>\n",
       "      <td>chamathsocial.com</td>\n",
       "      <td>scam</td>\n",
       "      <td>http://chamathsocial.com</td>\n",
       "      <td>chamathsocial.com</td>\n",
       "      <td>0</td>\n",
       "      <td>/*</td>\n",
       "      <td>Scamming</td>\n",
       "      <td>Trust-Trading</td>\n",
       "      <td>Trust trading scam site</td>\n",
       "      <td>CryptoScamDB</td>\n",
       "      <td>1.0</td>\n",
       "      <td>1.667236e+12</td>\n",
       "      <td>ETH</td>\n",
       "      <td>2</td>\n",
       "      <td>0.500000</td>\n",
       "      <td>0.495842</td>\n",
       "    </tr>\n",
       "    <tr>\n",
       "      <th>4</th>\n",
       "      <td>0x00067010f3Ae17aa53e2B4d5142DDA35380cf72D</td>\n",
       "      <td>calibra-ico.info</td>\n",
       "      <td>scam</td>\n",
       "      <td>http://calibra-ico.info</td>\n",
       "      <td>calibra-ico.info</td>\n",
       "      <td>0</td>\n",
       "      <td>/*</td>\n",
       "      <td>Phishing</td>\n",
       "      <td>Calibra</td>\n",
       "      <td>Fake Calibra crowdsale site</td>\n",
       "      <td>CryptoScamDB</td>\n",
       "      <td>1.0</td>\n",
       "      <td>1.667236e+12</td>\n",
       "      <td>ETH</td>\n",
       "      <td>10</td>\n",
       "      <td>3.240349</td>\n",
       "      <td>3.240113</td>\n",
       "    </tr>\n",
       "    <tr>\n",
       "      <th>5</th>\n",
       "      <td>0x0020731604C882cF7bF8C444BE97d17b19Ea4316</td>\n",
       "      <td>decentralized-launch.com</td>\n",
       "      <td>scam</td>\n",
       "      <td>http://decentralized-launch.com</td>\n",
       "      <td>decentralized-launch.com</td>\n",
       "      <td>0</td>\n",
       "      <td>/*</td>\n",
       "      <td>Scamming</td>\n",
       "      <td>Trust-Trading</td>\n",
       "      <td>Trust trading scam site - fake BNB giveaway</td>\n",
       "      <td>CryptoScamDB</td>\n",
       "      <td>1.0</td>\n",
       "      <td>1.667236e+12</td>\n",
       "      <td>ETH</td>\n",
       "      <td>18</td>\n",
       "      <td>17.589885</td>\n",
       "      <td>17.528747</td>\n",
       "    </tr>\n",
       "    <tr>\n",
       "      <th>6</th>\n",
       "      <td>0x002Bf459dC58584D58886169EA0E80f3Ca95FFAF</td>\n",
       "      <td>ethergifting.com</td>\n",
       "      <td>scam</td>\n",
       "      <td>https://ethergifting.com</td>\n",
       "      <td>ethergifting.com</td>\n",
       "      <td>0</td>\n",
       "      <td>/*</td>\n",
       "      <td>Scamming</td>\n",
       "      <td>Trust-Trading</td>\n",
       "      <td>Trust trading scam site</td>\n",
       "      <td>CryptoScamDB</td>\n",
       "      <td>1.0</td>\n",
       "      <td>1.667236e+12</td>\n",
       "      <td>ETH</td>\n",
       "      <td>4</td>\n",
       "      <td>1.543785</td>\n",
       "      <td>1.532693</td>\n",
       "    </tr>\n",
       "    <tr>\n",
       "      <th>7</th>\n",
       "      <td>0x002f0C8119C16D310342D869Ca8bF6AcE34D9c39</td>\n",
       "      <td>eth-pay.org</td>\n",
       "      <td>scam</td>\n",
       "      <td>http://eth-pay.org</td>\n",
       "      <td>eth-pay.org</td>\n",
       "      <td>0</td>\n",
       "      <td>/*</td>\n",
       "      <td>Scamming</td>\n",
       "      <td>Trust-Trading</td>\n",
       "      <td>Trust trading scam site</td>\n",
       "      <td>CryptoScamDB</td>\n",
       "      <td>1.0</td>\n",
       "      <td>1.667236e+12</td>\n",
       "      <td>ETH</td>\n",
       "      <td>5</td>\n",
       "      <td>1.328820</td>\n",
       "      <td>1.317896</td>\n",
       "    </tr>\n",
       "    <tr>\n",
       "      <th>8</th>\n",
       "      <td>0x0052A8400f51a26A53DFc589745bc0DD18be4993</td>\n",
       "      <td>nodeminingpool.com</td>\n",
       "      <td>scam</td>\n",
       "      <td>https://nodeminingpool.com</td>\n",
       "      <td>nodeminingpool.com</td>\n",
       "      <td>0</td>\n",
       "      <td>/*</td>\n",
       "      <td>Phishing</td>\n",
       "      <td>Investment</td>\n",
       "      <td>Fake investment platform phishing for funds - ...</td>\n",
       "      <td>CryptoScamDB</td>\n",
       "      <td>1.0</td>\n",
       "      <td>1.667236e+12</td>\n",
       "      <td>ETH</td>\n",
       "      <td>86</td>\n",
       "      <td>1.113307</td>\n",
       "      <td>0.864012</td>\n",
       "    </tr>\n",
       "    <tr>\n",
       "      <th>9</th>\n",
       "      <td>0x0059b14e35daB1b4EEe1e2926C7A5660dA66F747</td>\n",
       "      <td>gifto.tech</td>\n",
       "      <td>scam</td>\n",
       "      <td>http://gifto.tech</td>\n",
       "      <td>gifto.tech</td>\n",
       "      <td>0</td>\n",
       "      <td>/*</td>\n",
       "      <td>Phishing</td>\n",
       "      <td>Gifto</td>\n",
       "      <td>Fake airdrop site asking for private keys. Sus...</td>\n",
       "      <td>CryptoScamDB</td>\n",
       "      <td>1.0</td>\n",
       "      <td>1.667236e+12</td>\n",
       "      <td>ETH</td>\n",
       "      <td>127</td>\n",
       "      <td>38.165222</td>\n",
       "      <td>38.133767</td>\n",
       "    </tr>\n",
       "  </tbody>\n",
       "</table>\n",
       "</div>"
      ],
      "text/plain": [
       "                                      address                      name  type  \\\n",
       "0  0x0000000012ba45c32e4380a42ee524fe30502943                    eth.ug  scam   \n",
       "1  0x00000000445b63fff54af1ea544ff62ae96e0b15                    eth.ug  scam   \n",
       "2  0x0000000086c5d614bec59dfd2c9b88f7cb57f23c               ethereum.ug  scam   \n",
       "3  0x00000000D029A3Ed50d891B9afd74B034179082e         chamathsocial.com  scam   \n",
       "4  0x00067010f3Ae17aa53e2B4d5142DDA35380cf72D          calibra-ico.info  scam   \n",
       "5  0x0020731604C882cF7bF8C444BE97d17b19Ea4316  decentralized-launch.com  scam   \n",
       "6  0x002Bf459dC58584D58886169EA0E80f3Ca95FFAF          ethergifting.com  scam   \n",
       "7  0x002f0C8119C16D310342D869Ca8bF6AcE34D9c39               eth-pay.org  scam   \n",
       "8  0x0052A8400f51a26A53DFc589745bc0DD18be4993        nodeminingpool.com  scam   \n",
       "9  0x0059b14e35daB1b4EEe1e2926C7A5660dA66F747                gifto.tech  scam   \n",
       "\n",
       "                               url                  hostname  featured path  \\\n",
       "0                    http://eth.ug                    eth.ug         0   /*   \n",
       "1                    http://eth.ug                    eth.ug         0   /*   \n",
       "2               http://ethereum.ug               ethereum.ug         0   /*   \n",
       "3         http://chamathsocial.com         chamathsocial.com         0   /*   \n",
       "4          http://calibra-ico.info          calibra-ico.info         0   /*   \n",
       "5  http://decentralized-launch.com  decentralized-launch.com         0   /*   \n",
       "6         https://ethergifting.com          ethergifting.com         0   /*   \n",
       "7               http://eth-pay.org               eth-pay.org         0   /*   \n",
       "8       https://nodeminingpool.com        nodeminingpool.com         0   /*   \n",
       "9                http://gifto.tech                gifto.tech         0   /*   \n",
       "\n",
       "   category    subcategory                                        description  \\\n",
       "0  Scamming  Trust-Trading                            Trust trading scam site   \n",
       "1  Scamming  Trust-Trading                            Trust trading scam site   \n",
       "2  Scamming  Trust-Trading                            Trust trading scam site   \n",
       "3  Scamming  Trust-Trading                            Trust trading scam site   \n",
       "4  Phishing        Calibra                        Fake Calibra crowdsale site   \n",
       "5  Scamming  Trust-Trading        Trust trading scam site - fake BNB giveaway   \n",
       "6  Scamming  Trust-Trading                            Trust trading scam site   \n",
       "7  Scamming  Trust-Trading                            Trust trading scam site   \n",
       "8  Phishing     Investment  Fake investment platform phishing for funds - ...   \n",
       "9  Phishing          Gifto  Fake airdrop site asking for private keys. Sus...   \n",
       "\n",
       "       reporter  severity       updated crypto_type  no_of_transactions  \\\n",
       "0  CryptoScamDB       1.0  1.667236e+12         ETH                  14   \n",
       "1  CryptoScamDB       1.0  1.667236e+12         ETH                  14   \n",
       "2  CryptoScamDB       1.0  1.667236e+12         ETH                   6   \n",
       "3  CryptoScamDB       1.0  1.667236e+12         ETH                   2   \n",
       "4  CryptoScamDB       1.0  1.667236e+12         ETH                  10   \n",
       "5  CryptoScamDB       1.0  1.667236e+12         ETH                  18   \n",
       "6  CryptoScamDB       1.0  1.667236e+12         ETH                   4   \n",
       "7  CryptoScamDB       1.0  1.667236e+12         ETH                   5   \n",
       "8  CryptoScamDB       1.0  1.667236e+12         ETH                  86   \n",
       "9  CryptoScamDB       1.0  1.667236e+12         ETH                 127   \n",
       "\n",
       "   total_received  total_sent  \n",
       "0      164.967798  164.960982  \n",
       "1      110.999450  110.997560  \n",
       "2       60.502914   60.502305  \n",
       "3        0.500000    0.495842  \n",
       "4        3.240349    3.240113  \n",
       "5       17.589885   17.528747  \n",
       "6        1.543785    1.532693  \n",
       "7        1.328820    1.317896  \n",
       "8        1.113307    0.864012  \n",
       "9       38.165222   38.133767  "
      ]
     },
     "execution_count": 80,
     "metadata": {},
     "output_type": "execute_result"
    }
   ],
   "source": [
    "df.head(10)"
   ]
  },
  {
   "cell_type": "markdown",
   "metadata": {},
   "source": [
    "**Check number of uniqe valuse in all column**"
   ]
  },
  {
   "cell_type": "code",
   "execution_count": 81,
   "metadata": {},
   "outputs": [
    {
     "name": "stdout",
     "output_type": "stream",
     "text": [
      "address  :  4478\n",
      "name  :  4289\n",
      "type  :  2\n",
      "url  :  4319\n",
      "hostname  :  4289\n",
      "featured  :  2\n",
      "path  :  2\n",
      "category  :  3\n",
      "subcategory  :  266\n",
      "description  :  636\n",
      "reporter  :  3\n",
      "severity  :  2\n",
      "updated  :  19\n",
      "crypto_type  :  4\n",
      "no_of_transactions  :  254\n",
      "total_received  :  2757\n",
      "total_sent  :  2782\n"
     ]
    }
   ],
   "source": [
    "for col in df:\n",
    "  print(col,\" : \",len(df[col].unique()))"
   ]
  },
  {
   "cell_type": "markdown",
   "metadata": {},
   "source": [
    "**Check uniqe values for type, featured, path, category, reporter, severity columns**"
   ]
  },
  {
   "cell_type": "code",
   "execution_count": 82,
   "metadata": {},
   "outputs": [
    {
     "name": "stdout",
     "output_type": "stream",
     "text": [
      "Type :  ['scam' 'verified']\n",
      "Featured :  [0 1]\n",
      "Path :  ['/*' nan]\n",
      "Category :  ['Scamming' 'Phishing' nan]\n",
      "Reporter :  ['CryptoScamDB' 'Coinbase' nan]\n",
      "Severity :  [ 1. nan]\n",
      "Crypto Type :  ['ETH' nan 'BTC' 'BCH']\n"
     ]
    }
   ],
   "source": [
    "print(\"Type : \",df['type'].unique())\n",
    "print(\"Featured : \",df['featured'].unique())\n",
    "print(\"Path : \",df['path'].unique())\n",
    "print(\"Category : \",df['category'].unique())\n",
    "print(\"Reporter : \",df['reporter'].unique())\n",
    "print(\"Severity : \",df['severity'].unique())\n",
    "print(\"Crypto Type : \",df['crypto_type'].unique())"
   ]
  },
  {
   "cell_type": "markdown",
   "metadata": {},
   "source": [
    "**Checking Unique number of phishing and scamming address**"
   ]
  },
  {
   "cell_type": "code",
   "execution_count": 83,
   "metadata": {},
   "outputs": [
    {
     "name": "stdout",
     "output_type": "stream",
     "text": [
      "Unique number of phishing address:  3518\n",
      "Unique number of Scamming address:  978\n",
      "Unique number of NAN address:  7\n"
     ]
    }
   ],
   "source": [
    "df_=df.loc[df['category'] == 'Scamming']\n",
    "print(\"Unique number of phishing address: \" , len(df_['address'].unique()))\n",
    "df_=df.loc[df['category'] == 'Phishing']\n",
    "print(\"Unique number of Scamming address: \",len(df_['address'].unique()))\n",
    "df_=df.loc[ (df['category'] != 'Scamming') & (df['category'] != 'Phishing')]\n",
    "print(\"Unique number of NAN address: \",len(df_['address'].unique()))"
   ]
  },
  {
   "cell_type": "markdown",
   "metadata": {},
   "source": [
    "**Datfram with only Ethereum Address**"
   ]
  },
  {
   "cell_type": "code",
   "execution_count": 84,
   "metadata": {},
   "outputs": [],
   "source": [
    "df_ether=df.loc[df['crypto_type'] == 'ETH']\n",
    "# df_ether.info()\n",
    "#print(\"Number of unique Ethereum address         : \",len(df_ether.address.unique()))"
   ]
  },
  {
   "cell_type": "markdown",
   "metadata": {},
   "source": [
    "**Datfram with only Bitcoin Address**"
   ]
  },
  {
   "cell_type": "code",
   "execution_count": 85,
   "metadata": {},
   "outputs": [],
   "source": [
    "df_bitcoin=df.loc[df['crypto_type'] == 'BTC']\n",
    "# df_bitcoin.info()\n",
    "# print(\"Number of unique Bitcoin address         : \",len(df_bitcoin.address.unique()))"
   ]
  },
  {
   "cell_type": "markdown",
   "metadata": {},
   "source": [
    "**Datfram with only Other Crypto Address**"
   ]
  },
  {
   "cell_type": "code",
   "execution_count": 86,
   "metadata": {},
   "outputs": [],
   "source": [
    "df_other=df.loc[ (df['crypto_type'] != 'BTC') & (df['crypto_type'] != 'ETH') ]\n",
    "# df_bitcoin.info()\n",
    "# print(\"Number of unique Bitcoin address         : \",len(df_bitcoin.address.unique()))"
   ]
  },
  {
   "cell_type": "markdown",
   "metadata": {},
   "source": [
    "# **Unique number of all address, ethereum address, bitcoin address and other types of crypto address**"
   ]
  },
  {
   "cell_type": "code",
   "execution_count": 87,
   "metadata": {},
   "outputs": [
    {
     "name": "stdout",
     "output_type": "stream",
     "text": [
      "Number of unique address         :  4478\n",
      "Number of unique Ethereum address:  2991\n",
      "Number of unique Bitcon address  :  1091\n",
      "Number of unique Other address   :  409\n"
     ]
    }
   ],
   "source": [
    "print(\"Number of unique address         : \", len(df.address.unique()) )\n",
    "print(\"Number of unique Ethereum address: \", len(df_ether.address.unique()) )\n",
    "print(\"Number of unique Bitcon address  : \", len(df_bitcoin.address.unique() ) )\n",
    "print(\"Number of unique Other address   : \", len(df_other.address.unique() ) )"
   ]
  },
  {
   "cell_type": "markdown",
   "metadata": {},
   "source": [
    "**Ethereum Addresses**"
   ]
  },
  {
   "cell_type": "code",
   "execution_count": 92,
   "metadata": {},
   "outputs": [
    {
     "name": "stdout",
     "output_type": "stream",
     "text": [
      "Unique number of phishing Ethereum address:  2179\n",
      "Unique number of Scamming Ethereum address:  827\n",
      "Unique number of NAN Ethereum address:  7\n"
     ]
    }
   ],
   "source": [
    "df_=df_ether.loc[df['category'] == 'Scamming']\n",
    "print(\"Unique number of phishing Ethereum address: \" , len(df_['address'].unique()))\n",
    "df_=df_ether.loc[df['category'] == 'Phishing']\n",
    "print(\"Unique number of Scamming Ethereum address: \",len(df_['address'].unique()))\n",
    "df_=df_ether.loc[ (df['category'] != 'Scamming') & (df['category'] != 'Phishing')]\n",
    "print(\"Unique number of NAN Ethereum address: \",len(df_['address'].unique()))"
   ]
  },
  {
   "cell_type": "markdown",
   "metadata": {},
   "source": [
    "**Bitcoin Addresses**"
   ]
  },
  {
   "cell_type": "code",
   "execution_count": 91,
   "metadata": {},
   "outputs": [
    {
     "name": "stdout",
     "output_type": "stream",
     "text": [
      "Unique number of phishing Bitcoin address:  1003\n",
      "Unique number of Scamming Bitcoin address:  89\n",
      "Unique number of NAN Bitcoin address:  0\n"
     ]
    }
   ],
   "source": [
    "df_=df_bitcoin.loc[df['category'] == 'Scamming']\n",
    "print(\"Unique number of phishing Bitcoin address: \" , len(df_['address'].unique()))\n",
    "df_=df_bitcoin.loc[df['category'] == 'Phishing']\n",
    "print(\"Unique number of Scamming Bitcoin address: \",len(df_['address'].unique()))\n",
    "df_=df_bitcoin.loc[ (df['category'] != 'Scamming') & (df['category'] != 'Phishing')]\n",
    "print(\"Unique number of NAN Bitcoin address: \",len(df_['address'].unique()))"
   ]
  }
 ],
 "metadata": {
  "kernelspec": {
   "display_name": "Python 3.10.0 64-bit",
   "language": "python",
   "name": "python3"
  },
  "language_info": {
   "codemirror_mode": {
    "name": "ipython",
    "version": 3
   },
   "file_extension": ".py",
   "mimetype": "text/x-python",
   "name": "python",
   "nbconvert_exporter": "python",
   "pygments_lexer": "ipython3",
   "version": "3.10.0"
  },
  "orig_nbformat": 4,
  "vscode": {
   "interpreter": {
    "hash": "26de051ba29f2982a8de78e945f0abaf191376122a1563185a90213a26c5da77"
   }
  }
 },
 "nbformat": 4,
 "nbformat_minor": 2
}
